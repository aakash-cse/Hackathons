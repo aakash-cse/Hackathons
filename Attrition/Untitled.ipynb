{
 "cells": [
  {
   "cell_type": "code",
   "execution_count": 1,
   "metadata": {},
   "outputs": [],
   "source": [
    "import pandas as pd\n",
    "import numpy as np\n",
    "pd.options.mode.chained_assignment = None  # default='warn'\n"
   ]
  },
  {
   "cell_type": "code",
   "execution_count": 2,
   "metadata": {},
   "outputs": [],
   "source": [
    "\n",
    "train = pd.read_csv('D:/Studies/Machine Learning/HackerEarth/1st/Dataset/Train.csv')\n",
    "test = pd.read_csv('D:/Studies/Machine Learning/HackerEarth/1st/Dataset/Test.csv')\n",
    "submission = pd.read_csv('D:/Studies/Machine Learning/HackerEarth/1st/Dataset/sample_submission.csv')\n",
    "\n",
    "emp_id = test.Employee_ID"
   ]
  },
  {
   "cell_type": "code",
   "execution_count": 3,
   "metadata": {},
   "outputs": [],
   "source": [
    "def print_shape():\n",
    "    print(train.shape)\n",
    "    print(test.shape)\n"
   ]
  },
  {
   "cell_type": "code",
   "execution_count": 4,
   "metadata": {},
   "outputs": [],
   "source": [
    "def find_na():\n",
    "    print(train.isnull().sum())\n",
    "    print(\"_____________________________\")\n",
    "    print(test.isnull().sum())\n",
    "    print(\"_____________________________\")"
   ]
  },
  {
   "cell_type": "code",
   "execution_count": 5,
   "metadata": {},
   "outputs": [],
   "source": [
    "# filling the missing age value with 22 +  year of service taking them as first job in this company\n",
    "\n",
    "train['Age'] = train['Age'].fillna(22+ train['Time_of_service']) \n",
    "test['Age'] = test['Age'].fillna(22+ test['Time_of_service']) \n",
    "\n",
    "\n",
    "\n",
    "train['Age'].fillna((train['Age']).mean(),inplace = True)\n",
    "test['Age'].fillna((train['Age']).mean(),inplace = True)\n",
    "\n",
    "\n",
    "\n",
    "train['Time_of_service'] = train['Time_of_service'].fillna(train['Age'] - 22.0) \n",
    "test['Time_of_service'] = test['Time_of_service'].fillna(test['Age'] - 22.0)\n",
    "\n",
    "\n",
    "diction = {'1.0':'1.0','2.0':'1.0','3.0':'2.0','4.0':'2.0','5.0':'3.0',\n",
    "          '6.0':'3.0','7.0':'4.0','8.0':'4.0','9.0':'5.0','10.0':'5.0',}\n",
    "fun = {'1.0':'2.0','2.0':'4.0','3.0':'6.0','4.0':'8.0','5.0':'10.0',}\n",
    "\n",
    "train['Work_Life_balance'] = train['Work_Life_balance'].fillna(train['Pay_Scale'].map(diction))\n",
    "train['Work_Life_balance'].fillna(train['Work_Life_balance'].mean(),inplace=True)\n",
    "test['Work_Life_balance'] = test['Work_Life_balance'].fillna(test['Pay_Scale'].map(diction))\n",
    "test['Work_Life_balance'].fillna(test['Work_Life_balance'].mean(),inplace=True)\n",
    "\n",
    "train['Pay_Scale'].fillna(train['Work_Life_balance'].mean(),inplace=True)\n",
    "test['Pay_Scale'].fillna(test['Work_Life_balance'].mean(),inplace=True)\n",
    "\n",
    "train.Gender[train.Gender == 'M'] = 0\n",
    "train.Gender[train.Gender == 'F'] = 1\n",
    "test.Gender[test.Gender == 'M'] = 0\n",
    "test.Gender[test.Gender == 'F'] = 1\n",
    "\n",
    "train.Relationship_Status[train.Relationship_Status == 'Married'] =0 \n",
    "test.Relationship_Status[test.Relationship_Status =='Married'] =0\n",
    "train.Relationship_Status[train.Relationship_Status == 'Single'] =1 \n",
    "test.Relationship_Status[test.Relationship_Status =='Single'] =1\n",
    "\n",
    "train.head(2)\n",
    "test.head(2)\n",
    "\n",
    "train.drop(['VAR1','VAR2','VAR3','VAR4','VAR5','VAR6','VAR7','Employee_ID'],axis=1,inplace=True)\n",
    "test.drop(['VAR1','VAR2','VAR3','VAR4','VAR5','VAR6','VAR7','Employee_ID'],axis=1,inplace=True)\n",
    "\n",
    "\n",
    "train.Compensation_and_Benefits[train.Compensation_and_Benefits == 'type0'] = 0\n",
    "train.Compensation_and_Benefits[train.Compensation_and_Benefits == 'type1'] = 1\n",
    "train.Compensation_and_Benefits[train.Compensation_and_Benefits == 'type2'] = 2\n",
    "train.Compensation_and_Benefits[train.Compensation_and_Benefits == 'type3'] = 3\n",
    "train.Compensation_and_Benefits[train.Compensation_and_Benefits == 'type4'] = 4\n",
    "test.Compensation_and_Benefits[test.Compensation_and_Benefits == 'type0'] = 0\n",
    "test.Compensation_and_Benefits[test.Compensation_and_Benefits == 'type1'] = 1\n",
    "test.Compensation_and_Benefits[test.Compensation_and_Benefits == 'type2'] = 2\n",
    "test.Compensation_and_Benefits[test.Compensation_and_Benefits == 'type3'] = 3\n",
    "test.Compensation_and_Benefits[test.Compensation_and_Benefits == 'type4'] = 4\n",
    "\n"
   ]
  },
  {
   "cell_type": "code",
   "execution_count": 6,
   "metadata": {},
   "outputs": [],
   "source": [
    "home = {'Franklin':0,'Springfield':1,'Clinton':2,'Lebanon':3,'Washington':4}\n",
    "\n",
    "train['Hometown'] = train['Hometown'].map(home)\n",
    "test['Hometown'] = test['Hometown'].map(home)"
   ]
  },
  {
   "cell_type": "code",
   "execution_count": 7,
   "metadata": {},
   "outputs": [],
   "source": [
    "uni = {'IT':0, 'Logistics':1, 'Quality':2, 'Human Resource Management':3, 'Purchasing':4,\n",
    " 'Sales':5, 'Production':6, 'Operarions':7, 'Accounting and Finance':8, 'Marketing':9,\n",
    " 'R&D':10, 'Security':11}\n",
    "\n",
    "train['Unit'] = train['Unit'].map(uni)\n",
    "test['Unit'] = test['Unit'].map(uni)"
   ]
  },
  {
   "cell_type": "code",
   "execution_count": 8,
   "metadata": {},
   "outputs": [],
   "source": [
    "dsp ={'Conceptual':0, 'Analytical':1, 'Behavioral':2, 'Directive':3}\n",
    "\n",
    "train['Decision_skill_possess'] = train['Decision_skill_possess'].map(dsp)\n",
    "test['Decision_skill_possess'] = test['Decision_skill_possess'].map(dsp)\n",
    "\n"
   ]
  },
  {
   "cell_type": "code",
   "execution_count": 9,
   "metadata": {},
   "outputs": [
    {
     "data": {
      "text/html": [
       "<div>\n",
       "<style scoped>\n",
       "    .dataframe tbody tr th:only-of-type {\n",
       "        vertical-align: middle;\n",
       "    }\n",
       "\n",
       "    .dataframe tbody tr th {\n",
       "        vertical-align: top;\n",
       "    }\n",
       "\n",
       "    .dataframe thead th {\n",
       "        text-align: right;\n",
       "    }\n",
       "</style>\n",
       "<table border=\"1\" class=\"dataframe\">\n",
       "  <thead>\n",
       "    <tr style=\"text-align: right;\">\n",
       "      <th></th>\n",
       "      <th>Gender</th>\n",
       "      <th>Age</th>\n",
       "      <th>Education_Level</th>\n",
       "      <th>Relationship_Status</th>\n",
       "      <th>Hometown</th>\n",
       "      <th>Unit</th>\n",
       "      <th>Decision_skill_possess</th>\n",
       "      <th>Time_of_service</th>\n",
       "      <th>Time_since_promotion</th>\n",
       "      <th>growth_rate</th>\n",
       "      <th>Travel_Rate</th>\n",
       "      <th>Post_Level</th>\n",
       "      <th>Pay_Scale</th>\n",
       "      <th>Compensation_and_Benefits</th>\n",
       "      <th>Work_Life_balance</th>\n",
       "      <th>Attrition_rate</th>\n",
       "    </tr>\n",
       "  </thead>\n",
       "  <tbody>\n",
       "    <tr>\n",
       "      <th>0</th>\n",
       "      <td>1</td>\n",
       "      <td>42.0</td>\n",
       "      <td>4</td>\n",
       "      <td>0</td>\n",
       "      <td>0</td>\n",
       "      <td>0</td>\n",
       "      <td>0</td>\n",
       "      <td>4.0</td>\n",
       "      <td>4</td>\n",
       "      <td>33</td>\n",
       "      <td>1</td>\n",
       "      <td>1</td>\n",
       "      <td>7.0</td>\n",
       "      <td>2</td>\n",
       "      <td>3.0</td>\n",
       "      <td>0.1841</td>\n",
       "    </tr>\n",
       "    <tr>\n",
       "      <th>1</th>\n",
       "      <td>0</td>\n",
       "      <td>24.0</td>\n",
       "      <td>3</td>\n",
       "      <td>1</td>\n",
       "      <td>1</td>\n",
       "      <td>1</td>\n",
       "      <td>1</td>\n",
       "      <td>5.0</td>\n",
       "      <td>4</td>\n",
       "      <td>36</td>\n",
       "      <td>0</td>\n",
       "      <td>3</td>\n",
       "      <td>6.0</td>\n",
       "      <td>2</td>\n",
       "      <td>4.0</td>\n",
       "      <td>0.0670</td>\n",
       "    </tr>\n",
       "  </tbody>\n",
       "</table>\n",
       "</div>"
      ],
      "text/plain": [
       "  Gender   Age  Education_Level Relationship_Status  Hometown  Unit  \\\n",
       "0      1  42.0                4                   0         0     0   \n",
       "1      0  24.0                3                   1         1     1   \n",
       "\n",
       "   Decision_skill_possess  Time_of_service  Time_since_promotion  growth_rate  \\\n",
       "0                       0              4.0                     4           33   \n",
       "1                       1              5.0                     4           36   \n",
       "\n",
       "   Travel_Rate  Post_Level  Pay_Scale Compensation_and_Benefits  \\\n",
       "0            1           1        7.0                         2   \n",
       "1            0           3        6.0                         2   \n",
       "\n",
       "   Work_Life_balance  Attrition_rate  \n",
       "0                3.0          0.1841  \n",
       "1                4.0          0.0670  "
      ]
     },
     "execution_count": 9,
     "metadata": {},
     "output_type": "execute_result"
    }
   ],
   "source": [
    "train.head(2)"
   ]
  },
  {
   "cell_type": "code",
   "execution_count": 10,
   "metadata": {},
   "outputs": [
    {
     "name": "stdout",
     "output_type": "stream",
     "text": [
      "(7000, 15)\n",
      "(7000,)\n"
     ]
    }
   ],
   "source": [
    "x = train.iloc[:,:15]\n",
    "y = train.Attrition_rate\n",
    "print(x.shape)\n",
    "print(y.shape)\n"
   ]
  },
  {
   "cell_type": "code",
   "execution_count": 11,
   "metadata": {},
   "outputs": [
    {
     "name": "stdout",
     "output_type": "stream",
     "text": [
      "(4900, 15) (2100, 15) (4900,) (2100,)\n"
     ]
    }
   ],
   "source": [
    "from sklearn.model_selection import train_test_split\n",
    "X_train, X_test, y_train, y_test = train_test_split(x,y,test_size=0.3)\n",
    "\n",
    "print(X_train.shape,X_test.shape,y_train.shape,y_test.shape)"
   ]
  },
  {
   "cell_type": "code",
   "execution_count": 12,
   "metadata": {},
   "outputs": [
    {
     "name": "stderr",
     "output_type": "stream",
     "text": [
      "Using TensorFlow backend.\n"
     ]
    },
    {
     "ename": "NameError",
     "evalue": "name 'estimator' is not defined",
     "output_type": "error",
     "traceback": [
      "\u001b[1;31m---------------------------------------------------------------------------\u001b[0m",
      "\u001b[1;31mNameError\u001b[0m                                 Traceback (most recent call last)",
      "\u001b[1;32m<ipython-input-12-260f92ca3383>\u001b[0m in \u001b[0;36m<module>\u001b[1;34m\u001b[0m\n\u001b[0;32m     18\u001b[0m \u001b[1;33m\u001b[0m\u001b[0m\n\u001b[0;32m     19\u001b[0m \u001b[0mkfold\u001b[0m \u001b[1;33m=\u001b[0m \u001b[0mKFold\u001b[0m\u001b[1;33m(\u001b[0m\u001b[0mn_splits\u001b[0m\u001b[1;33m=\u001b[0m\u001b[1;36m10\u001b[0m\u001b[1;33m)\u001b[0m\u001b[1;33m\u001b[0m\u001b[1;33m\u001b[0m\u001b[0m\n\u001b[1;32m---> 20\u001b[1;33m \u001b[0mresults\u001b[0m \u001b[1;33m=\u001b[0m \u001b[0mcross_val_score\u001b[0m\u001b[1;33m(\u001b[0m\u001b[0mestimator\u001b[0m\u001b[1;33m,\u001b[0m \u001b[0mx\u001b[0m\u001b[1;33m,\u001b[0m \u001b[0my\u001b[0m\u001b[1;33m,\u001b[0m \u001b[0mcv\u001b[0m\u001b[1;33m=\u001b[0m\u001b[0mkfold\u001b[0m\u001b[1;33m)\u001b[0m\u001b[1;33m\u001b[0m\u001b[1;33m\u001b[0m\u001b[0m\n\u001b[0m\u001b[0;32m     21\u001b[0m \u001b[0mprint\u001b[0m\u001b[1;33m(\u001b[0m\u001b[1;34m\"Results: %.2f (%.2f) MSE\"\u001b[0m \u001b[1;33m%\u001b[0m \u001b[1;33m(\u001b[0m\u001b[0mresults\u001b[0m\u001b[1;33m.\u001b[0m\u001b[0mmean\u001b[0m\u001b[1;33m(\u001b[0m\u001b[1;33m)\u001b[0m\u001b[1;33m,\u001b[0m \u001b[0mresults\u001b[0m\u001b[1;33m.\u001b[0m\u001b[0mstd\u001b[0m\u001b[1;33m(\u001b[0m\u001b[1;33m)\u001b[0m\u001b[1;33m)\u001b[0m\u001b[1;33m)\u001b[0m\u001b[1;33m\u001b[0m\u001b[1;33m\u001b[0m\u001b[0m\n\u001b[0;32m     22\u001b[0m \u001b[1;33m\u001b[0m\u001b[0m\n",
      "\u001b[1;31mNameError\u001b[0m: name 'estimator' is not defined"
     ]
    }
   ],
   "source": [
    "from keras.models import Sequential\n",
    "from keras.layers import Dense\n",
    "from keras.wrappers.scikit_learn import KerasRegressor\n",
    "from sklearn.model_selection import cross_val_score, KFold\n",
    "from sklearn.preprocessing import StandardScaler\n",
    "from sklearn.pipeline import Pipeline\n",
    "from keras.metrics import RootMeanSquaredError\n",
    "\n",
    "\n",
    "def baseline_model():\n",
    "    model = Sequential()\n",
    "    model.add(Dense(15, input_dim=15, activation='relu'))\n",
    "    model.add(Dense(10, input_dim=15, activation='sigmoid'))\n",
    "    model.add(Dense(5, input_dim=15, activation='relu'))\n",
    "    model.add(Dense(1))\n",
    "    model.compile(loss='mean_squared_error', optimizer='adam',metrics=[RootMeanSquaredError()])\n",
    "    return model\n",
    "\n",
    "kfold = KFold(n_splits=10)\n",
    "results = cross_val_score(estimator, x, y, cv=kfold)\n",
    "print(\"Results: %.2f (%.2f) MSE\" % (results.mean(), results.std()))\n",
    "\n",
    "estimator = KerasRegressor(build_fn=baseline_model, nb_epoch=10000, batch_size=100, verbose=0)\n",
    "estimator.fit(x, y)\n",
    "res = estimator.predict(test)\n",
    "print(prediction.shape)\n",
    "res = pd.DataFrame()\n",
    "res['Employee_ID'],res['Attrition_rate']=[emp_id,final]\n",
    "res.to_csv('out2.csv',index=False)\n",
    "\n",
    "print(res.head(5))"
   ]
  },
  {
   "cell_type": "code",
   "execution_count": null,
   "metadata": {},
   "outputs": [],
   "source": [
    "from sklearn.neural_network import MLPClassifier\n",
    "\n",
    "clf = MLPClassifier(hidden_layer_sizes=(100,200),batch_size=200,learning_rate='adaptive').fit(x,y)\n",
    "res = clf.predict_proba(test)\n",
    "\n",
    "final = res[:,1:] \n",
    "res = pd.DataFrame()\n",
    "res['Employee_ID'],res['Attrition_rate']=[emp_id,final]\n",
    "res.to_csv('out.csv',index=False)\n"
   ]
  },
  {
   "cell_type": "code",
   "execution_count": null,
   "metadata": {},
   "outputs": [],
   "source": [
    "from sklearn.neural_network import MLPRegressor\n",
    "\n",
    "clf = MLPRegressor(hidden_layer_sizes=(100,200),batch_size=200,learning_rate='adaptive').fit(x,y)\n",
    "final = clf.predict(test)\n",
    "print(final)\n",
    "\n",
    "res = pd.DataFrame()\n",
    "res['Employee_ID'],res['Attrition_rate']=[emp_id,final]\n",
    "res.to_csv('out1.csv',index=False)\n"
   ]
  },
  {
   "cell_type": "code",
   "execution_count": null,
   "metadata": {},
   "outputs": [],
   "source": [
    "print(res.iloc[:,1:].where(res.iloc[:,1:]<0).sum())"
   ]
  },
  {
   "cell_type": "code",
   "execution_count": null,
   "metadata": {},
   "outputs": [],
   "source": []
  }
 ],
 "metadata": {
  "kernelspec": {
   "display_name": "Python 3",
   "language": "python",
   "name": "python3"
  },
  "language_info": {
   "codemirror_mode": {
    "name": "ipython",
    "version": 3
   },
   "file_extension": ".py",
   "mimetype": "text/x-python",
   "name": "python",
   "nbconvert_exporter": "python",
   "pygments_lexer": "ipython3",
   "version": "3.7.7"
  }
 },
 "nbformat": 4,
 "nbformat_minor": 4
}
